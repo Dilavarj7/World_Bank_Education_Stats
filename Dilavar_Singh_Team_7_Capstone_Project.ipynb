{
  "nbformat": 4,
  "nbformat_minor": 0,
  "metadata": {
    "kernelspec": {
      "display_name": "Python 3",
      "language": "python",
      "name": "python3"
    },
    "language_info": {
      "codemirror_mode": {
        "name": "ipython",
        "version": 3
      },
      "file_extension": ".py",
      "mimetype": "text/x-python",
      "name": "python",
      "nbconvert_exporter": "python",
      "pygments_lexer": "ipython3",
      "version": "3.6.6"
    },
    "colab": {
      "name": "Dilavar Singh - Team 7 - Capstone Project.ipynb",
      "provenance": [],
      "collapsed_sections": [
        "epMU2ZU3Dx0X"
      ],
      "include_colab_link": true
    }
  },
  "cells": [
    {
      "cell_type": "markdown",
      "metadata": {
        "id": "view-in-github",
        "colab_type": "text"
      },
      "source": [
        "<a href=\"https://colab.research.google.com/github/Dilavarj7/World_Bank_Education_Stats/blob/main/Dilavar_Singh_Team_7_Capstone_Project.ipynb\" target=\"_parent\"><img src=\"https://colab.research.google.com/assets/colab-badge.svg\" alt=\"Open In Colab\"/></a>"
      ]
    },
    {
      "cell_type": "markdown",
      "metadata": {
        "id": "Y06xIdG26kRF"
      },
      "source": [
        "## <b> The World Bank EdStats All Indicator Query holds over 4,000 internationally comparable indicators that describe education access, progression, completion, literacy, teachers, population, and expenditures.The indicators cover the education cycle from pre-primary to vocational and tertiary education and also holds learning outcome data from international and regional learning assessments (e.g. PISA, TIMSS, PIRLS), equity data from household surveys, and projection/attainment data. </b>\n",
        "\n",
        "## <b> Explore and analyze the data to identify variation of indicators across the globe, which countries are more alike and different. Feel free to add more extensive analyses and details.</b>"
      ]
    },
    {
      "cell_type": "code",
      "metadata": {
        "id": "dByMsuzT8Tnw"
      },
      "source": [
        "import numpy as np\n",
        "import pandas as pd\n",
        "import matplotlib.pyplot as plt\n",
        "import os\n",
        "import matplotlib.patches as mpatches"
      ],
      "execution_count": 1,
      "outputs": []
    },
    {
      "cell_type": "code",
      "metadata": {
        "id": "IwtnEjZ9m_ke",
        "outputId": "f8bce3ef-8992-4002-c130-6a3688a53f66",
        "colab": {
          "base_uri": "https://localhost:8080/"
        }
      },
      "source": [
        "from google.colab import drive\n",
        "drive.mount('/content/drive')"
      ],
      "execution_count": 2,
      "outputs": [
        {
          "output_type": "stream",
          "text": [
            "Mounted at /content/drive\n"
          ],
          "name": "stdout"
        }
      ]
    },
    {
      "cell_type": "code",
      "metadata": {
        "id": "5zoasUP2nFX-"
      },
      "source": [
        "path='/content/drive/My Drive/AlmaBetter/Cohort Aravali/Module 2/Week 1/Day 1/dat/'\n",
        "EdStatsCountry_Series_df= pd.read_csv(path + 'EdStatsCountry-Series.csv')\n",
        "EdStatsCountry_df= pd.read_csv(path + 'EdStatsCountry.csv')\n",
        "EdStatsData_df= pd.read_csv(path + 'EdStatsData.csv')\n",
        "EdStatsFootNote_df= pd.read_csv(path + 'EdStatsFootNote.csv')\n",
        "EdStatsSeries_df= pd.read_csv(path + 'EdStatsSeries.csv')"
      ],
      "execution_count": 6,
      "outputs": []
    },
    {
      "cell_type": "code",
      "metadata": {
        "id": "TKc8SgRTDqjg"
      },
      "source": [
        "#deleted unwanted columns\n",
        "del EdStatsCountry_Series_df['Unnamed: 3']\n",
        "del EdStatsCountry_df['Unnamed: 31']\n",
        "del EdStatsData_df['Unnamed: 69']\n",
        "del EdStatsFootNote_df['Unnamed: 4']\n",
        "EdStatsSeries_df.drop(['Unit of measure','Notes from original source','Related source links','Other web links','Related indicators','License Type','Unnamed: 20'], axis=1, inplace=True)"
      ],
      "execution_count": 7,
      "outputs": []
    },
    {
      "cell_type": "markdown",
      "metadata": {
        "id": "Q2o8wAdZ0hv2"
      },
      "source": [
        "1.Analysis and visualization for **EdStatsCountry_Series** DataFrame !."
      ]
    },
    {
      "cell_type": "code",
      "metadata": {
        "id": "9WNaG4bxoZEO",
        "outputId": "e5249350-6748-41c1-cabe-82937d102d9a",
        "colab": {
          "base_uri": "https://localhost:8080/",
          "height": 195
        }
      },
      "source": [
        "EdStatsCountry_Series_df.head(5)"
      ],
      "execution_count": 8,
      "outputs": [
        {
          "output_type": "execute_result",
          "data": {
            "text/html": [
              "<div>\n",
              "<style scoped>\n",
              "    .dataframe tbody tr th:only-of-type {\n",
              "        vertical-align: middle;\n",
              "    }\n",
              "\n",
              "    .dataframe tbody tr th {\n",
              "        vertical-align: top;\n",
              "    }\n",
              "\n",
              "    .dataframe thead th {\n",
              "        text-align: right;\n",
              "    }\n",
              "</style>\n",
              "<table border=\"1\" class=\"dataframe\">\n",
              "  <thead>\n",
              "    <tr style=\"text-align: right;\">\n",
              "      <th></th>\n",
              "      <th>CountryCode</th>\n",
              "      <th>SeriesCode</th>\n",
              "      <th>DESCRIPTION</th>\n",
              "    </tr>\n",
              "  </thead>\n",
              "  <tbody>\n",
              "    <tr>\n",
              "      <th>0</th>\n",
              "      <td>ABW</td>\n",
              "      <td>SP.POP.TOTL</td>\n",
              "      <td>Data sources : United Nations World Population...</td>\n",
              "    </tr>\n",
              "    <tr>\n",
              "      <th>1</th>\n",
              "      <td>ABW</td>\n",
              "      <td>SP.POP.GROW</td>\n",
              "      <td>Data sources: United Nations World Population ...</td>\n",
              "    </tr>\n",
              "    <tr>\n",
              "      <th>2</th>\n",
              "      <td>AFG</td>\n",
              "      <td>SP.POP.GROW</td>\n",
              "      <td>Data sources: United Nations World Population ...</td>\n",
              "    </tr>\n",
              "    <tr>\n",
              "      <th>3</th>\n",
              "      <td>AFG</td>\n",
              "      <td>NY.GDP.PCAP.PP.CD</td>\n",
              "      <td>Estimates are based on regression.</td>\n",
              "    </tr>\n",
              "    <tr>\n",
              "      <th>4</th>\n",
              "      <td>AFG</td>\n",
              "      <td>SP.POP.TOTL</td>\n",
              "      <td>Data sources : United Nations World Population...</td>\n",
              "    </tr>\n",
              "  </tbody>\n",
              "</table>\n",
              "</div>"
            ],
            "text/plain": [
              "  CountryCode  ...                                        DESCRIPTION\n",
              "0         ABW  ...  Data sources : United Nations World Population...\n",
              "1         ABW  ...  Data sources: United Nations World Population ...\n",
              "2         AFG  ...  Data sources: United Nations World Population ...\n",
              "3         AFG  ...                 Estimates are based on regression.\n",
              "4         AFG  ...  Data sources : United Nations World Population...\n",
              "\n",
              "[5 rows x 3 columns]"
            ]
          },
          "metadata": {
            "tags": []
          },
          "execution_count": 8
        }
      ]
    },
    {
      "cell_type": "code",
      "metadata": {
        "id": "fQKzJHROybpB",
        "outputId": "29751926-7c84-4200-ba34-9978d9ea9aad",
        "colab": {
          "base_uri": "https://localhost:8080/"
        }
      },
      "source": [
        "EdStatsCountry_Series_df.info()"
      ],
      "execution_count": 16,
      "outputs": [
        {
          "output_type": "stream",
          "text": [
            "<class 'pandas.core.frame.DataFrame'>\n",
            "RangeIndex: 613 entries, 0 to 612\n",
            "Data columns (total 3 columns):\n",
            " #   Column       Non-Null Count  Dtype \n",
            "---  ------       --------------  ----- \n",
            " 0   CountryCode  613 non-null    object\n",
            " 1   SeriesCode   613 non-null    object\n",
            " 2   DESCRIPTION  613 non-null    object\n",
            "dtypes: object(3)\n",
            "memory usage: 14.5+ KB\n"
          ],
          "name": "stdout"
        }
      ]
    },
    {
      "cell_type": "code",
      "metadata": {
        "id": "H0sp7BoT0APg",
        "outputId": "cd4b9766-5ef4-4d10-8056-4e5d4c26eb6d",
        "colab": {
          "base_uri": "https://localhost:8080/",
          "height": 35
        }
      },
      "source": [
        "EdStatsCountry_Series_df['DESCRIPTION'][0]"
      ],
      "execution_count": 23,
      "outputs": [
        {
          "output_type": "execute_result",
          "data": {
            "application/vnd.google.colaboratory.intrinsic+json": {
              "type": "string"
            },
            "text/plain": [
              "'Data sources : United Nations World Population Prospects'"
            ]
          },
          "metadata": {
            "tags": []
          },
          "execution_count": 23
        }
      ]
    },
    {
      "cell_type": "code",
      "metadata": {
        "id": "VcAQ1C-9x4kz",
        "outputId": "6a73b4f0-f371-40e4-d6bb-e54cde38cbf7",
        "colab": {
          "base_uri": "https://localhost:8080/"
        }
      },
      "source": [
        "EdStatsCountry_Series_df['SeriesCode'].nunique()"
      ],
      "execution_count": 12,
      "outputs": [
        {
          "output_type": "execute_result",
          "data": {
            "text/plain": [
              "21"
            ]
          },
          "metadata": {
            "tags": []
          },
          "execution_count": 12
        }
      ]
    },
    {
      "cell_type": "code",
      "metadata": {
        "id": "VPyHbYsrx_Uv",
        "outputId": "2a58b2e7-925e-49b7-e11a-9a9d4026a61b",
        "colab": {
          "base_uri": "https://localhost:8080/"
        }
      },
      "source": [
        "EdStatsCountry_Series_df['CountryCode'].nunique()"
      ],
      "execution_count": 13,
      "outputs": [
        {
          "output_type": "execute_result",
          "data": {
            "text/plain": [
              "211"
            ]
          },
          "metadata": {
            "tags": []
          },
          "execution_count": 13
        }
      ]
    },
    {
      "cell_type": "code",
      "metadata": {
        "id": "uyRH_i2qyITL",
        "outputId": "1e9a118a-f5a2-48cb-bc50-22086fe2f069",
        "colab": {
          "base_uri": "https://localhost:8080/"
        }
      },
      "source": [
        "EdStatsCountry_Series_df['DESCRIPTION'].nunique()"
      ],
      "execution_count": 15,
      "outputs": [
        {
          "output_type": "execute_result",
          "data": {
            "text/plain": [
              "97"
            ]
          },
          "metadata": {
            "tags": []
          },
          "execution_count": 15
        }
      ]
    },
    {
      "cell_type": "code",
      "metadata": {
        "id": "3mNyl2gky0Ak",
        "outputId": "234df378-472a-4b6a-f119-a5e3de0941d6",
        "colab": {
          "base_uri": "https://localhost:8080/"
        }
      },
      "source": [
        "graph_btw_series_code_and_description=EdStatsCountry_Series_df.groupby('SeriesCode')['DESCRIPTION'].count()\n",
        "graph_btw_series_code_and_description\n",
        "#this is basically same as below one-So we need to draw the graph for any one of them."
      ],
      "execution_count": 20,
      "outputs": [
        {
          "output_type": "execute_result",
          "data": {
            "text/plain": [
              "SeriesCode\n",
              "NY.GDP.MKTP.PP.CD     14\n",
              "NY.GDP.MKTP.PP.KD     14\n",
              "NY.GDP.PCAP.CD         5\n",
              "NY.GDP.PCAP.KD         5\n",
              "NY.GDP.PCAP.PP.CD     19\n",
              "NY.GDP.PCAP.PP.KD     19\n",
              "NY.GNP.MKTP.PP.CD     14\n",
              "NY.GNP.PCAP.CD         6\n",
              "NY.GNP.PCAP.PP.CD     19\n",
              "SP.POP.0014.FE.IN      4\n",
              "SP.POP.0014.MA.IN      4\n",
              "SP.POP.0014.TO         4\n",
              "SP.POP.0014.TO.ZS     13\n",
              "SP.POP.1564.FE.IN      4\n",
              "SP.POP.1564.MA.IN      4\n",
              "SP.POP.1564.TO         4\n",
              "SP.POP.1564.TO.ZS     13\n",
              "SP.POP.GROW          211\n",
              "SP.POP.TOTL          211\n",
              "SP.POP.TOTL.FE.ZS     13\n",
              "SP.POP.TOTL.MA.ZS     13\n",
              "Name: DESCRIPTION, dtype: int64"
            ]
          },
          "metadata": {
            "tags": []
          },
          "execution_count": 20
        }
      ]
    },
    {
      "cell_type": "code",
      "metadata": {
        "id": "B74SevkzXvEf",
        "outputId": "8eb77cc3-c4e8-4a1f-a343-035d44288bc9",
        "colab": {
          "base_uri": "https://localhost:8080/"
        }
      },
      "source": [
        "EdStatsCountry_Series_plot_graph_of_series_code=EdStatsCountry_Series_df['SeriesCode'].value_counts()\n",
        "EdStatsCountry_Series_plot_graph_of_series_code "
      ],
      "execution_count": 21,
      "outputs": [
        {
          "output_type": "execute_result",
          "data": {
            "text/plain": [
              "SP.POP.GROW          211\n",
              "SP.POP.TOTL          211\n",
              "NY.GDP.PCAP.PP.CD     19\n",
              "NY.GDP.PCAP.PP.KD     19\n",
              "NY.GNP.PCAP.PP.CD     19\n",
              "NY.GNP.MKTP.PP.CD     14\n",
              "NY.GDP.MKTP.PP.CD     14\n",
              "NY.GDP.MKTP.PP.KD     14\n",
              "SP.POP.1564.TO.ZS     13\n",
              "SP.POP.0014.TO.ZS     13\n",
              "SP.POP.TOTL.FE.ZS     13\n",
              "SP.POP.TOTL.MA.ZS     13\n",
              "NY.GNP.PCAP.CD         6\n",
              "NY.GDP.PCAP.CD         5\n",
              "NY.GDP.PCAP.KD         5\n",
              "SP.POP.1564.FE.IN      4\n",
              "SP.POP.0014.TO         4\n",
              "SP.POP.1564.TO         4\n",
              "SP.POP.0014.MA.IN      4\n",
              "SP.POP.1564.MA.IN      4\n",
              "SP.POP.0014.FE.IN      4\n",
              "Name: SeriesCode, dtype: int64"
            ]
          },
          "metadata": {
            "tags": []
          },
          "execution_count": 21
        }
      ]
    },
    {
      "cell_type": "code",
      "metadata": {
        "id": "XqPxOxx_azss",
        "outputId": "743a0541-0753-47e7-8d66-a1addf140b89",
        "colab": {
          "base_uri": "https://localhost:8080/",
          "height": 452
        }
      },
      "source": [
        "plt.rcParams['figure.figsize'] = (10, 5)\n",
        "EdStatsCountry_Series_plot_graph_of_series_code.plot(kind='bar')\n",
        "\n",
        "plt.title('Counts per series code')\n",
        "plt.ylabel('Counts-DESCRIPTION')\n",
        "plt.xlabel('Series Code')"
      ],
      "execution_count": 22,
      "outputs": [
        {
          "output_type": "execute_result",
          "data": {
            "text/plain": [
              "Text(0.5, 0, 'Series Code')"
            ]
          },
          "metadata": {
            "tags": []
          },
          "execution_count": 22
        },
        {
          "output_type": "display_data",
          "data": {
            "image/png": "[encoded data removed]",
            "text/plain": [
              "<Figure size 720x360 with 1 Axes>"
            ]
          },
          "metadata": {
            "tags": [],
            "needs_background": "light"
          }
        }
      ]
    },
    {
      "cell_type": "markdown",
      "metadata": {
        "id": "YXP3B7R51Gox"
      },
      "source": [
        "2. Analysis for our 2nd DataFrame that is **EdStatsCountry_df**."
      ]
    },
    {
      "cell_type": "code",
      "metadata": {
        "id": "EyQDinvHl-8S",
        "outputId": "e3f23162-5d71-469f-f458-fbfd4d0ddeaf",
        "colab": {
          "base_uri": "https://localhost:8080/",
          "height": 282
        }
      },
      "source": [
        "EdStatsCountry_df.head(1)"
      ],
      "execution_count": null,
      "outputs": [
        {
          "output_type": "execute_result",
          "data": {
            "text/html": [
              "<div>\n",
              "<style scoped>\n",
              "    .dataframe tbody tr th:only-of-type {\n",
              "        vertical-align: middle;\n",
              "    }\n",
              "\n",
              "    .dataframe tbody tr th {\n",
              "        vertical-align: top;\n",
              "    }\n",
              "\n",
              "    .dataframe thead th {\n",
              "        text-align: right;\n",
              "    }\n",
              "</style>\n",
              "<table border=\"1\" class=\"dataframe\">\n",
              "  <thead>\n",
              "    <tr style=\"text-align: right;\">\n",
              "      <th></th>\n",
              "      <th>Country Code</th>\n",
              "      <th>Short Name</th>\n",
              "      <th>Table Name</th>\n",
              "      <th>Long Name</th>\n",
              "      <th>2-alpha code</th>\n",
              "      <th>Currency Unit</th>\n",
              "      <th>Special Notes</th>\n",
              "      <th>Region</th>\n",
              "      <th>Income Group</th>\n",
              "      <th>WB-2 code</th>\n",
              "      <th>National accounts base year</th>\n",
              "      <th>National accounts reference year</th>\n",
              "      <th>SNA price valuation</th>\n",
              "      <th>Lending category</th>\n",
              "      <th>Other groups</th>\n",
              "      <th>System of National Accounts</th>\n",
              "      <th>Alternative conversion factor</th>\n",
              "      <th>PPP survey year</th>\n",
              "      <th>Balance of Payments Manual in use</th>\n",
              "      <th>External debt Reporting status</th>\n",
              "      <th>System of trade</th>\n",
              "      <th>Government Accounting concept</th>\n",
              "      <th>IMF data dissemination standard</th>\n",
              "      <th>Latest population census</th>\n",
              "      <th>Latest household survey</th>\n",
              "      <th>Source of most recent Income and expenditure data</th>\n",
              "      <th>Vital registration complete</th>\n",
              "      <th>Latest agricultural census</th>\n",
              "      <th>Latest industrial data</th>\n",
              "      <th>Latest trade data</th>\n",
              "      <th>Latest water withdrawal data</th>\n",
              "    </tr>\n",
              "  </thead>\n",
              "  <tbody>\n",
              "    <tr>\n",
              "      <th>0</th>\n",
              "      <td>ABW</td>\n",
              "      <td>Aruba</td>\n",
              "      <td>Aruba</td>\n",
              "      <td>Aruba</td>\n",
              "      <td>AW</td>\n",
              "      <td>Aruban florin</td>\n",
              "      <td>SNA data for 2000-2011 are updated from offici...</td>\n",
              "      <td>Latin America &amp; Caribbean</td>\n",
              "      <td>High income: nonOECD</td>\n",
              "      <td>AW</td>\n",
              "      <td>2000</td>\n",
              "      <td>NaN</td>\n",
              "      <td>Value added at basic prices (VAB)</td>\n",
              "      <td>NaN</td>\n",
              "      <td>NaN</td>\n",
              "      <td>Country uses the 1993 System of National Accou...</td>\n",
              "      <td>NaN</td>\n",
              "      <td>NaN</td>\n",
              "      <td>IMF Balance of Payments Manual, 6th edition.</td>\n",
              "      <td>NaN</td>\n",
              "      <td>Special trade system</td>\n",
              "      <td>NaN</td>\n",
              "      <td>NaN</td>\n",
              "      <td>2010</td>\n",
              "      <td>NaN</td>\n",
              "      <td>NaN</td>\n",
              "      <td>Yes</td>\n",
              "      <td>NaN</td>\n",
              "      <td>NaN</td>\n",
              "      <td>2012.0</td>\n",
              "      <td>NaN</td>\n",
              "    </tr>\n",
              "  </tbody>\n",
              "</table>\n",
              "</div>"
            ],
            "text/plain": [
              "  Country Code Short Name  ... Latest trade data Latest water withdrawal data\n",
              "0          ABW      Aruba  ...            2012.0                          NaN\n",
              "\n",
              "[1 rows x 31 columns]"
            ]
          },
          "metadata": {
            "tags": []
          },
          "execution_count": 11
        }
      ]
    },
    {
      "cell_type": "code",
      "metadata": {
        "id": "1tfhtHIaa9Cx"
      },
      "source": [
        "EdStatsCountry_df.dropna(subset=['Region'], inplace=True)"
      ],
      "execution_count": null,
      "outputs": []
    },
    {
      "cell_type": "code",
      "metadata": {
        "id": "LuaBngZo2D1A"
      },
      "source": [
        "EdStatsCountry_df=EdStatsCountry_df.reset_index()"
      ],
      "execution_count": 30,
      "outputs": []
    },
    {
      "cell_type": "code",
      "metadata": {
        "id": "x6SSAsyU17xb",
        "outputId": "3f88943c-a798-4188-e76f-99adab432313",
        "colab": {
          "base_uri": "https://localhost:8080/"
        }
      },
      "source": [
        "EdStatsCountry_df.info()"
      ],
      "execution_count": 31,
      "outputs": [
        {
          "output_type": "stream",
          "text": [
            "<class 'pandas.core.frame.DataFrame'>\n",
            "RangeIndex: 214 entries, 0 to 213\n",
            "Data columns (total 32 columns):\n",
            " #   Column                                             Non-Null Count  Dtype  \n",
            "---  ------                                             --------------  -----  \n",
            " 0   index                                              214 non-null    int64  \n",
            " 1   Country Code                                       214 non-null    object \n",
            " 2   Short Name                                         214 non-null    object \n",
            " 3   Table Name                                         214 non-null    object \n",
            " 4   Long Name                                          214 non-null    object \n",
            " 5   2-alpha code                                       211 non-null    object \n",
            " 6   Currency Unit                                      214 non-null    object \n",
            " 7   Special Notes                                      120 non-null    object \n",
            " 8   Region                                             214 non-null    object \n",
            " 9   Income Group                                       214 non-null    object \n",
            " 10  WB-2 code                                          213 non-null    object \n",
            " 11  National accounts base year                        205 non-null    object \n",
            " 12  National accounts reference year                   32 non-null     float64\n",
            " 13  SNA price valuation                                197 non-null    object \n",
            " 14  Lending category                                   144 non-null    object \n",
            " 15  Other groups                                       58 non-null     object \n",
            " 16  System of National Accounts                        214 non-null    object \n",
            " 17  Alternative conversion factor                      47 non-null     object \n",
            " 18  PPP survey year                                    145 non-null    object \n",
            " 19  Balance of Payments Manual in use                  181 non-null    object \n",
            " 20  External debt Reporting status                     124 non-null    object \n",
            " 21  System of trade                                    200 non-null    object \n",
            " 22  Government Accounting concept                      161 non-null    object \n",
            " 23  IMF data dissemination standard                    181 non-null    object \n",
            " 24  Latest population census                           212 non-null    object \n",
            " 25  Latest household survey                            141 non-null    object \n",
            " 26  Source of most recent Income and expenditure data  160 non-null    object \n",
            " 27  Vital registration complete                        111 non-null    object \n",
            " 28  Latest agricultural census                         142 non-null    object \n",
            " 29  Latest industrial data                             107 non-null    float64\n",
            " 30  Latest trade data                                  185 non-null    float64\n",
            " 31  Latest water withdrawal data                       179 non-null    object \n",
            "dtypes: float64(3), int64(1), object(28)\n",
            "memory usage: 53.6+ KB\n"
          ],
          "name": "stdout"
        }
      ]
    },
    {
      "cell_type": "code",
      "metadata": {
        "id": "AM-xD9Y0lcBU",
        "outputId": "35b7d1bf-29c6-4298-8449-3e1a2b0df7b8",
        "colab": {
          "base_uri": "https://localhost:8080/"
        }
      },
      "source": [
        "EdStatsCountry_df['Region'].nunique()"
      ],
      "execution_count": 32,
      "outputs": [
        {
          "output_type": "execute_result",
          "data": {
            "text/plain": [
              "7"
            ]
          },
          "metadata": {
            "tags": []
          },
          "execution_count": 32
        }
      ]
    },
    {
      "cell_type": "code",
      "metadata": {
        "id": "1azhorDLmv3A",
        "outputId": "328cb3d3-3030-418a-8635-b071b826f9a6",
        "colab": {
          "base_uri": "https://localhost:8080/"
        }
      },
      "source": [
        "country_code_value_count_per_region=EdStatsCountry_df.groupby('Region')['Country Code'].count()\n",
        "country_code_value_count_per_region"
      ],
      "execution_count": 38,
      "outputs": [
        {
          "output_type": "execute_result",
          "data": {
            "text/plain": [
              "Region\n",
              "East Asia & Pacific           36\n",
              "Europe & Central Asia         57\n",
              "Latin America & Caribbean     41\n",
              "Middle East & North Africa    21\n",
              "North America                  3\n",
              "South Asia                     8\n",
              "Sub-Saharan Africa            48\n",
              "Name: Country Code, dtype: int64"
            ]
          },
          "metadata": {
            "tags": []
          },
          "execution_count": 38
        }
      ]
    },
    {
      "cell_type": "code",
      "metadata": {
        "id": "u9NJSdiMmv5V",
        "outputId": "6e7aa18a-547d-49dc-e595-34cd8a38cd55",
        "colab": {
          "base_uri": "https://localhost:8080/",
          "height": 491
        }
      },
      "source": [
        "country_code_value_count_per_region.plot(kind='bar')\n",
        "\n",
        "plt.title('No of Country Per Region')\n",
        "plt.ylabel('Country Counts')\n",
        "plt.xlabel('Region')"
      ],
      "execution_count": 41,
      "outputs": [
        {
          "output_type": "execute_result",
          "data": {
            "text/plain": [
              "Text(0.5, 0, 'Region')"
            ]
          },
          "metadata": {
            "tags": []
          },
          "execution_count": 41
        },
        {
          "output_type": "display_data",
          "data": {
            "image/png": "[encoded data removed]",
            "text/plain": [
              "<Figure size 720x360 with 1 Axes>"
            ]
          },
          "metadata": {
            "tags": [],
            "needs_background": "light"
          }
        }
      ]
    },
    {
      "cell_type": "code",
      "metadata": {
        "id": "jc_CZQ5roMMr",
        "outputId": "0690746c-37b4-45c9-a6d6-16e8c46f682d",
        "colab": {
          "base_uri": "https://localhost:8080/"
        }
      },
      "source": [
        "value_count_for_income_group=EdStatsCountry_df['Income Group'].value_counts()\n",
        "value_count_for_income_group"
      ],
      "execution_count": 43,
      "outputs": [
        {
          "output_type": "execute_result",
          "data": {
            "text/plain": [
              "Upper middle income     55\n",
              "Lower middle income     50\n",
              "High income: nonOECD    44\n",
              "Low income              34\n",
              "High income: OECD       31\n",
              "Name: Income Group, dtype: int64"
            ]
          },
          "metadata": {
            "tags": []
          },
          "execution_count": 43
        }
      ]
    },
    {
      "cell_type": "code",
      "metadata": {
        "id": "iIhtSaWRojCJ",
        "outputId": "85ab455d-bbfb-4239-b34b-7aa1b8962f94",
        "colab": {
          "base_uri": "https://localhost:8080/",
          "height": 473
        }
      },
      "source": [
        "value_count_for_income_group.plot(kind='bar')\n",
        "\n",
        "plt.title('Value Count for Income Group')\n",
        "plt.ylabel('Country Counts')\n",
        "plt.xlabel('Income Group')"
      ],
      "execution_count": 44,
      "outputs": [
        {
          "output_type": "execute_result",
          "data": {
            "text/plain": [
              "Text(0.5, 0, 'Income Group')"
            ]
          },
          "metadata": {
            "tags": []
          },
          "execution_count": 44
        },
        {
          "output_type": "display_data",
          "data": {
            "image/png": "[encoded data removed]",
            "text/plain": [
              "<Figure size 720x360 with 1 Axes>"
            ]
          },
          "metadata": {
            "tags": [],
            "needs_background": "light"
          }
        }
      ]
    },
    {
      "cell_type": "markdown",
      "metadata": {
        "id": "zMXLW0Zu7LP8"
      },
      "source": [
        "3.Data Analysis for our most important DataFrame which has information about Country name and Indicator code...**EdStatsData_df**."
      ]
    },
    {
      "cell_type": "code",
      "metadata": {
        "id": "x7KqJ54UI00O",
        "outputId": "d5f8ceee-ee1f-455e-eb22-efbbf6f2be01",
        "colab": {
          "base_uri": "https://localhost:8080/"
        }
      },
      "source": [
        "EdStatsData_df.groupby('Country Name')['Indicator Name'].count()"
      ],
      "execution_count": 87,
      "outputs": [
        {
          "output_type": "execute_result",
          "data": {
            "text/plain": [
              "Country Name\n",
              "Afghanistan           3665\n",
              "Albania               3665\n",
              "Algeria               3665\n",
              "American Samoa        3665\n",
              "Andorra               3665\n",
              "                      ... \n",
              "West Bank and Gaza    3665\n",
              "World                 3665\n",
              "Yemen, Rep.           3665\n",
              "Zambia                3665\n",
              "Zimbabwe              3665\n",
              "Name: Indicator Name, Length: 242, dtype: int64"
            ]
          },
          "metadata": {
            "tags": []
          },
          "execution_count": 87
        }
      ]
    },
    {
      "cell_type": "code",
      "metadata": {
        "id": "OjWyg7C5_TCU",
        "outputId": "c11b5c77-dbf1-4cdd-e343-65611bb8508b",
        "colab": {
          "base_uri": "https://localhost:8080/",
          "height": 198
        }
      },
      "source": [
        "EdStatsData_df.head(1)"
      ],
      "execution_count": 95,
      "outputs": [
        {
          "output_type": "execute_result",
          "data": {
            "text/html": [
              "<div>\n",
              "<style scoped>\n",
              "    .dataframe tbody tr th:only-of-type {\n",
              "        vertical-align: middle;\n",
              "    }\n",
              "\n",
              "    .dataframe tbody tr th {\n",
              "        vertical-align: top;\n",
              "    }\n",
              "\n",
              "    .dataframe thead th {\n",
              "        text-align: right;\n",
              "    }\n",
              "</style>\n",
              "<table border=\"1\" class=\"dataframe\">\n",
              "  <thead>\n",
              "    <tr style=\"text-align: right;\">\n",
              "      <th></th>\n",
              "      <th>Country Name</th>\n",
              "      <th>Country Code</th>\n",
              "      <th>Indicator Name</th>\n",
              "      <th>Indicator Code</th>\n",
              "      <th>1970</th>\n",
              "      <th>1971</th>\n",
              "      <th>1972</th>\n",
              "      <th>1973</th>\n",
              "      <th>1974</th>\n",
              "      <th>1975</th>\n",
              "      <th>1976</th>\n",
              "      <th>1977</th>\n",
              "      <th>1978</th>\n",
              "      <th>1979</th>\n",
              "      <th>1980</th>\n",
              "      <th>1981</th>\n",
              "      <th>1982</th>\n",
              "      <th>1983</th>\n",
              "      <th>1984</th>\n",
              "      <th>1985</th>\n",
              "      <th>1986</th>\n",
              "      <th>1987</th>\n",
              "      <th>1988</th>\n",
              "      <th>1989</th>\n",
              "      <th>1990</th>\n",
              "      <th>1991</th>\n",
              "      <th>1992</th>\n",
              "      <th>1993</th>\n",
              "      <th>1994</th>\n",
              "      <th>1995</th>\n",
              "      <th>1996</th>\n",
              "      <th>1997</th>\n",
              "      <th>1998</th>\n",
              "      <th>1999</th>\n",
              "      <th>2000</th>\n",
              "      <th>2001</th>\n",
              "      <th>2002</th>\n",
              "      <th>2003</th>\n",
              "      <th>2004</th>\n",
              "      <th>2005</th>\n",
              "      <th>2006</th>\n",
              "      <th>2007</th>\n",
              "      <th>2008</th>\n",
              "      <th>2009</th>\n",
              "      <th>2010</th>\n",
              "      <th>2011</th>\n",
              "      <th>2012</th>\n",
              "      <th>2013</th>\n",
              "      <th>2014</th>\n",
              "      <th>2015</th>\n",
              "      <th>2016</th>\n",
              "      <th>2017</th>\n",
              "      <th>2020</th>\n",
              "      <th>2025</th>\n",
              "      <th>2030</th>\n",
              "      <th>2035</th>\n",
              "      <th>2040</th>\n",
              "      <th>2045</th>\n",
              "      <th>2050</th>\n",
              "      <th>2055</th>\n",
              "      <th>2060</th>\n",
              "      <th>2065</th>\n",
              "      <th>2070</th>\n",
              "      <th>2075</th>\n",
              "      <th>2080</th>\n",
              "      <th>2085</th>\n",
              "      <th>2090</th>\n",
              "      <th>2095</th>\n",
              "      <th>2100</th>\n",
              "    </tr>\n",
              "  </thead>\n",
              "  <tbody>\n",
              "    <tr>\n",
              "      <th>0</th>\n",
              "      <td>Arab World</td>\n",
              "      <td>ARB</td>\n",
              "      <td>Adjusted net enrolment rate, lower secondary, ...</td>\n",
              "      <td>UIS.NERA.2</td>\n",
              "      <td>NaN</td>\n",
              "      <td>NaN</td>\n",
              "      <td>NaN</td>\n",
              "      <td>NaN</td>\n",
              "      <td>NaN</td>\n",
              "      <td>NaN</td>\n",
              "      <td>NaN</td>\n",
              "      <td>NaN</td>\n",
              "      <td>NaN</td>\n",
              "      <td>NaN</td>\n",
              "      <td>NaN</td>\n",
              "      <td>NaN</td>\n",
              "      <td>NaN</td>\n",
              "      <td>NaN</td>\n",
              "      <td>NaN</td>\n",
              "      <td>NaN</td>\n",
              "      <td>NaN</td>\n",
              "      <td>NaN</td>\n",
              "      <td>NaN</td>\n",
              "      <td>NaN</td>\n",
              "      <td>NaN</td>\n",
              "      <td>NaN</td>\n",
              "      <td>NaN</td>\n",
              "      <td>NaN</td>\n",
              "      <td>NaN</td>\n",
              "      <td>NaN</td>\n",
              "      <td>NaN</td>\n",
              "      <td>NaN</td>\n",
              "      <td>NaN</td>\n",
              "      <td>NaN</td>\n",
              "      <td>NaN</td>\n",
              "      <td>NaN</td>\n",
              "      <td>NaN</td>\n",
              "      <td>NaN</td>\n",
              "      <td>NaN</td>\n",
              "      <td>NaN</td>\n",
              "      <td>NaN</td>\n",
              "      <td>NaN</td>\n",
              "      <td>NaN</td>\n",
              "      <td>NaN</td>\n",
              "      <td>NaN</td>\n",
              "      <td>NaN</td>\n",
              "      <td>NaN</td>\n",
              "      <td>NaN</td>\n",
              "      <td>NaN</td>\n",
              "      <td>NaN</td>\n",
              "      <td>NaN</td>\n",
              "      <td>NaN</td>\n",
              "      <td>NaN</td>\n",
              "      <td>NaN</td>\n",
              "      <td>NaN</td>\n",
              "      <td>NaN</td>\n",
              "      <td>NaN</td>\n",
              "      <td>NaN</td>\n",
              "      <td>NaN</td>\n",
              "      <td>NaN</td>\n",
              "      <td>NaN</td>\n",
              "      <td>NaN</td>\n",
              "      <td>NaN</td>\n",
              "      <td>NaN</td>\n",
              "      <td>NaN</td>\n",
              "      <td>NaN</td>\n",
              "      <td>NaN</td>\n",
              "      <td>NaN</td>\n",
              "      <td>NaN</td>\n",
              "    </tr>\n",
              "  </tbody>\n",
              "</table>\n",
              "</div>"
            ],
            "text/plain": [
              "  Country Name Country Code  ... 2095 2100\n",
              "0   Arab World          ARB  ...  NaN  NaN\n",
              "\n",
              "[1 rows x 69 columns]"
            ]
          },
          "metadata": {
            "tags": []
          },
          "execution_count": 95
        }
      ]
    },
    {
      "cell_type": "code",
      "metadata": {
        "id": "lAdYzRaS6Rho"
      },
      "source": [
        "df1=EdStatsData_df"
      ],
      "execution_count": 107,
      "outputs": []
    },
    {
      "cell_type": "code",
      "metadata": {
        "id": "qPmgRShMiGmF"
      },
      "source": [
        "#country_list=list(EdStatsData_df[(EdStatsData_df['Country Name'] =='Arab World')]['Country Name'])\n",
        "#Indicator_code_list=list(EdStatsData_df[(EdStatsData_df['Country Name'] =='Arab World')]['Indicator Code'])\n",
        "#country_indicator_dict=dict(zip(Indicator_code_list,country_list))"
      ],
      "execution_count": 109,
      "outputs": []
    },
    {
      "cell_type": "code",
      "metadata": {
        "id": "8lla3TKh8Nbi"
      },
      "source": [
        "column_lst=list(df1.columns)\n",
        "df1=df1.drop([column for column in column_lst if ((column !='2010') & (column !='2011') \n",
        "& (column !='2012') & (column !='2013') & (column !='2014') & (column !='Country Name') \n",
        "& (column !='Country Code') & (column !='Indicator Name') & (column !='Indicator Code'))], axis=1)"
      ],
      "execution_count": 110,
      "outputs": []
    },
    {
      "cell_type": "code",
      "metadata": {
        "id": "bJWSb5z2-xG3",
        "outputId": "d8bcdf90-c84e-4002-cc31-9c704afbd53c",
        "colab": {
          "base_uri": "https://localhost:8080/",
          "height": 77
        }
      },
      "source": [
        "df1.head(1)"
      ],
      "execution_count": 113,
      "outputs": [
        {
          "output_type": "execute_result",
          "data": {
            "text/html": [
              "<div>\n",
              "<style scoped>\n",
              "    .dataframe tbody tr th:only-of-type {\n",
              "        vertical-align: middle;\n",
              "    }\n",
              "\n",
              "    .dataframe tbody tr th {\n",
              "        vertical-align: top;\n",
              "    }\n",
              "\n",
              "    .dataframe thead th {\n",
              "        text-align: right;\n",
              "    }\n",
              "</style>\n",
              "<table border=\"1\" class=\"dataframe\">\n",
              "  <thead>\n",
              "    <tr style=\"text-align: right;\">\n",
              "      <th></th>\n",
              "      <th>Country Name</th>\n",
              "      <th>Country Code</th>\n",
              "      <th>Indicator Name</th>\n",
              "      <th>Indicator Code</th>\n",
              "      <th>2010</th>\n",
              "      <th>2011</th>\n",
              "      <th>2012</th>\n",
              "      <th>2013</th>\n",
              "      <th>2014</th>\n",
              "    </tr>\n",
              "  </thead>\n",
              "  <tbody>\n",
              "    <tr>\n",
              "      <th>0</th>\n",
              "      <td>Arab World</td>\n",
              "      <td>ARB</td>\n",
              "      <td>Adjusted net enrolment rate, lower secondary, ...</td>\n",
              "      <td>UIS.NERA.2</td>\n",
              "      <td>NaN</td>\n",
              "      <td>NaN</td>\n",
              "      <td>NaN</td>\n",
              "      <td>NaN</td>\n",
              "      <td>NaN</td>\n",
              "    </tr>\n",
              "  </tbody>\n",
              "</table>\n",
              "</div>"
            ],
            "text/plain": [
              "  Country Name Country Code  ... 2013 2014\n",
              "0   Arab World          ARB  ...  NaN  NaN\n",
              "\n",
              "[1 rows x 9 columns]"
            ]
          },
          "metadata": {
            "tags": []
          },
          "execution_count": 113
        }
      ]
    },
    {
      "cell_type": "code",
      "metadata": {
        "id": "qltZxvgbAw6c",
        "outputId": "7993e4f4-f494-40c3-f9c5-e1945ddb46ad",
        "colab": {
          "base_uri": "https://localhost:8080/"
        }
      },
      "source": [
        "df1.info()"
      ],
      "execution_count": 114,
      "outputs": [
        {
          "output_type": "stream",
          "text": [
            "<class 'pandas.core.frame.DataFrame'>\n",
            "RangeIndex: 886930 entries, 0 to 886929\n",
            "Data columns (total 9 columns):\n",
            " #   Column          Non-Null Count   Dtype  \n",
            "---  ------          --------------   -----  \n",
            " 0   Country Name    886930 non-null  object \n",
            " 1   Country Code    886930 non-null  object \n",
            " 2   Indicator Name  886930 non-null  object \n",
            " 3   Indicator Code  886930 non-null  object \n",
            " 4   2010            242442 non-null  float64\n",
            " 5   2011            146012 non-null  float64\n",
            " 6   2012            147264 non-null  float64\n",
            " 7   2013            137509 non-null  float64\n",
            " 8   2014            113789 non-null  float64\n",
            "dtypes: float64(5), object(4)\n",
            "memory usage: 60.9+ MB\n"
          ],
          "name": "stdout"
        }
      ]
    },
    {
      "cell_type": "code",
      "metadata": {
        "id": "Vq5rlL1x-bXb"
      },
      "source": [
        "def get_median(year1,year2,year3,year4,year5):\n",
        "    lst=[]\n",
        "    lst.append(year1)\n",
        "    lst.append(year2)\n",
        "    lst.append(year3)\n",
        "    lst.append(year4)\n",
        "    lst.append(year5)\n",
        "    year_value_series = pd.Series(lst)\n",
        "    result=year_value_series.median()\n",
        "    return result\n"
      ],
      "execution_count": 115,
      "outputs": []
    },
    {
      "cell_type": "code",
      "metadata": {
        "id": "W1rbCr1lqBFl"
      },
      "source": [
        "df1['Median Value']=df1.apply(lambda x : get_median(x['2010'],x['2011'],x['2012'],x['2013'],x['2014']), axis=1, result_type='expand')"
      ],
      "execution_count": 116,
      "outputs": []
    },
    {
      "cell_type": "code",
      "metadata": {
        "id": "1201snJxC9wx",
        "outputId": "c1215056-2d0c-4387-ee26-cc6b1746eabd",
        "colab": {
          "base_uri": "https://localhost:8080/",
          "height": 195
        }
      },
      "source": [
        "df1.head()"
      ],
      "execution_count": 177,
      "outputs": [
        {
          "output_type": "execute_result",
          "data": {
            "text/html": [
              "<div>\n",
              "<style scoped>\n",
              "    .dataframe tbody tr th:only-of-type {\n",
              "        vertical-align: middle;\n",
              "    }\n",
              "\n",
              "    .dataframe tbody tr th {\n",
              "        vertical-align: top;\n",
              "    }\n",
              "\n",
              "    .dataframe thead th {\n",
              "        text-align: right;\n",
              "    }\n",
              "</style>\n",
              "<table border=\"1\" class=\"dataframe\">\n",
              "  <thead>\n",
              "    <tr style=\"text-align: right;\">\n",
              "      <th></th>\n",
              "      <th>Country Name</th>\n",
              "      <th>Country Code</th>\n",
              "      <th>Indicator Name</th>\n",
              "      <th>Indicator Code</th>\n",
              "      <th>2010</th>\n",
              "      <th>2011</th>\n",
              "      <th>2012</th>\n",
              "      <th>2013</th>\n",
              "      <th>2014</th>\n",
              "      <th>Median Value</th>\n",
              "    </tr>\n",
              "  </thead>\n",
              "  <tbody>\n",
              "    <tr>\n",
              "      <th>0</th>\n",
              "      <td>Arab World</td>\n",
              "      <td>ARB</td>\n",
              "      <td>Adjusted net enrolment rate, primary, both sex...</td>\n",
              "      <td>SE.PRM.TENR</td>\n",
              "      <td>85.211998</td>\n",
              "      <td>85.245140</td>\n",
              "      <td>86.101669</td>\n",
              "      <td>85.511940</td>\n",
              "      <td>85.320152</td>\n",
              "      <td>85.320152</td>\n",
              "    </tr>\n",
              "    <tr>\n",
              "      <th>1</th>\n",
              "      <td>Arab World</td>\n",
              "      <td>ARB</td>\n",
              "      <td>Adjusted net enrolment rate, primary, female (%)</td>\n",
              "      <td>SE.PRM.TENR.FE</td>\n",
              "      <td>82.871651</td>\n",
              "      <td>82.861389</td>\n",
              "      <td>84.401413</td>\n",
              "      <td>83.914032</td>\n",
              "      <td>83.820831</td>\n",
              "      <td>83.820831</td>\n",
              "    </tr>\n",
              "    <tr>\n",
              "      <th>2</th>\n",
              "      <td>Arab World</td>\n",
              "      <td>ARB</td>\n",
              "      <td>Adjusted net enrolment rate, primary, gender p...</td>\n",
              "      <td>UIS.NERA.1.GPI</td>\n",
              "      <td>0.947620</td>\n",
              "      <td>0.946700</td>\n",
              "      <td>0.962080</td>\n",
              "      <td>0.964090</td>\n",
              "      <td>0.966200</td>\n",
              "      <td>0.962080</td>\n",
              "    </tr>\n",
              "    <tr>\n",
              "      <th>3</th>\n",
              "      <td>Arab World</td>\n",
              "      <td>ARB</td>\n",
              "      <td>Adjusted net enrolment rate, primary, male (%)</td>\n",
              "      <td>SE.PRM.TENR.MA</td>\n",
              "      <td>87.452583</td>\n",
              "      <td>87.526520</td>\n",
              "      <td>87.728172</td>\n",
              "      <td>87.039879</td>\n",
              "      <td>86.753387</td>\n",
              "      <td>87.452583</td>\n",
              "    </tr>\n",
              "    <tr>\n",
              "      <th>4</th>\n",
              "      <td>Arab World</td>\n",
              "      <td>ARB</td>\n",
              "      <td>Adjusted net intake rate to Grade 1 of primary...</td>\n",
              "      <td>UIS.NIRA.1</td>\n",
              "      <td>76.197044</td>\n",
              "      <td>76.474968</td>\n",
              "      <td>77.319366</td>\n",
              "      <td>76.566711</td>\n",
              "      <td>76.620567</td>\n",
              "      <td>76.566711</td>\n",
              "    </tr>\n",
              "  </tbody>\n",
              "</table>\n",
              "</div>"
            ],
            "text/plain": [
              "  Country Name Country Code  ...       2014 Median Value\n",
              "0   Arab World          ARB  ...  85.320152    85.320152\n",
              "1   Arab World          ARB  ...  83.820831    83.820831\n",
              "2   Arab World          ARB  ...   0.966200     0.962080\n",
              "3   Arab World          ARB  ...  86.753387    87.452583\n",
              "4   Arab World          ARB  ...  76.620567    76.566711\n",
              "\n",
              "[5 rows x 10 columns]"
            ]
          },
          "metadata": {
            "tags": []
          },
          "execution_count": 177
        }
      ]
    },
    {
      "cell_type": "code",
      "metadata": {
        "id": "R7nJxb0xE1Up"
      },
      "source": [
        "df1.dropna(subset = ['Median Value'], inplace=True)\n",
        "df1=df1.reset_index()\n",
        "del df1['index']"
      ],
      "execution_count": 149,
      "outputs": []
    },
    {
      "cell_type": "code",
      "metadata": {
        "id": "emFJ8x_rIc70"
      },
      "source": [
        "df2=df1"
      ],
      "execution_count": 175,
      "outputs": []
    },
    {
      "cell_type": "code",
      "metadata": {
        "id": "AsQ8DJ7CIfg2",
        "outputId": "f80a51a3-0d00-42a5-9904-ad077497d588",
        "colab": {
          "base_uri": "https://localhost:8080/",
          "height": 195
        }
      },
      "source": [
        "df2.head()"
      ],
      "execution_count": 176,
      "outputs": [
        {
          "output_type": "execute_result",
          "data": {
            "text/html": [
              "<div>\n",
              "<style scoped>\n",
              "    .dataframe tbody tr th:only-of-type {\n",
              "        vertical-align: middle;\n",
              "    }\n",
              "\n",
              "    .dataframe tbody tr th {\n",
              "        vertical-align: top;\n",
              "    }\n",
              "\n",
              "    .dataframe thead th {\n",
              "        text-align: right;\n",
              "    }\n",
              "</style>\n",
              "<table border=\"1\" class=\"dataframe\">\n",
              "  <thead>\n",
              "    <tr style=\"text-align: right;\">\n",
              "      <th></th>\n",
              "      <th>Country Name</th>\n",
              "      <th>Country Code</th>\n",
              "      <th>Indicator Name</th>\n",
              "      <th>Indicator Code</th>\n",
              "      <th>2010</th>\n",
              "      <th>2011</th>\n",
              "      <th>2012</th>\n",
              "      <th>2013</th>\n",
              "      <th>2014</th>\n",
              "      <th>Median Value</th>\n",
              "    </tr>\n",
              "  </thead>\n",
              "  <tbody>\n",
              "    <tr>\n",
              "      <th>0</th>\n",
              "      <td>Arab World</td>\n",
              "      <td>ARB</td>\n",
              "      <td>Adjusted net enrolment rate, primary, both sex...</td>\n",
              "      <td>SE.PRM.TENR</td>\n",
              "      <td>85.211998</td>\n",
              "      <td>85.245140</td>\n",
              "      <td>86.101669</td>\n",
              "      <td>85.511940</td>\n",
              "      <td>85.320152</td>\n",
              "      <td>85.320152</td>\n",
              "    </tr>\n",
              "    <tr>\n",
              "      <th>1</th>\n",
              "      <td>Arab World</td>\n",
              "      <td>ARB</td>\n",
              "      <td>Adjusted net enrolment rate, primary, female (%)</td>\n",
              "      <td>SE.PRM.TENR.FE</td>\n",
              "      <td>82.871651</td>\n",
              "      <td>82.861389</td>\n",
              "      <td>84.401413</td>\n",
              "      <td>83.914032</td>\n",
              "      <td>83.820831</td>\n",
              "      <td>83.820831</td>\n",
              "    </tr>\n",
              "    <tr>\n",
              "      <th>2</th>\n",
              "      <td>Arab World</td>\n",
              "      <td>ARB</td>\n",
              "      <td>Adjusted net enrolment rate, primary, gender p...</td>\n",
              "      <td>UIS.NERA.1.GPI</td>\n",
              "      <td>0.947620</td>\n",
              "      <td>0.946700</td>\n",
              "      <td>0.962080</td>\n",
              "      <td>0.964090</td>\n",
              "      <td>0.966200</td>\n",
              "      <td>0.962080</td>\n",
              "    </tr>\n",
              "    <tr>\n",
              "      <th>3</th>\n",
              "      <td>Arab World</td>\n",
              "      <td>ARB</td>\n",
              "      <td>Adjusted net enrolment rate, primary, male (%)</td>\n",
              "      <td>SE.PRM.TENR.MA</td>\n",
              "      <td>87.452583</td>\n",
              "      <td>87.526520</td>\n",
              "      <td>87.728172</td>\n",
              "      <td>87.039879</td>\n",
              "      <td>86.753387</td>\n",
              "      <td>87.452583</td>\n",
              "    </tr>\n",
              "    <tr>\n",
              "      <th>4</th>\n",
              "      <td>Arab World</td>\n",
              "      <td>ARB</td>\n",
              "      <td>Adjusted net intake rate to Grade 1 of primary...</td>\n",
              "      <td>UIS.NIRA.1</td>\n",
              "      <td>76.197044</td>\n",
              "      <td>76.474968</td>\n",
              "      <td>77.319366</td>\n",
              "      <td>76.566711</td>\n",
              "      <td>76.620567</td>\n",
              "      <td>76.566711</td>\n",
              "    </tr>\n",
              "  </tbody>\n",
              "</table>\n",
              "</div>"
            ],
            "text/plain": [
              "  Country Name Country Code  ...       2014 Median Value\n",
              "0   Arab World          ARB  ...  85.320152    85.320152\n",
              "1   Arab World          ARB  ...  83.820831    83.820831\n",
              "2   Arab World          ARB  ...   0.966200     0.962080\n",
              "3   Arab World          ARB  ...  86.753387    87.452583\n",
              "4   Arab World          ARB  ...  76.620567    76.566711\n",
              "\n",
              "[5 rows x 10 columns]"
            ]
          },
          "metadata": {
            "tags": []
          },
          "execution_count": 176
        }
      ]
    },
    {
      "cell_type": "markdown",
      "metadata": {
        "id": "epMU2ZU3Dx0X"
      },
      "source": [
        "###<u> Writing a CSV file in the location </u>"
      ]
    },
    {
      "cell_type": "code",
      "metadata": {
        "id": "JZr43yXdDKpy"
      },
      "source": [
        "df1.to_csv(path +'output_EdStatsData_df.csv')"
      ],
      "execution_count": 119,
      "outputs": []
    },
    {
      "cell_type": "markdown",
      "metadata": {
        "id": "XB1Mr7q3EjDv"
      },
      "source": [
        "###<u> Continue..... </u>"
      ]
    },
    {
      "cell_type": "markdown",
      "metadata": {
        "id": "AEa_RGz9JAr0"
      },
      "source": [
        "4.Analysis for our 4th DataFrame that is **EdStatsFootNote_df**."
      ]
    },
    {
      "cell_type": "code",
      "metadata": {
        "id": "KcjLDi4AI0_0",
        "outputId": "03147ded-ea2e-418e-878b-7970ad4c7067",
        "colab": {
          "base_uri": "https://localhost:8080/",
          "height": 195
        }
      },
      "source": [
        "EdStatsFootNote_df.head()"
      ],
      "execution_count": 8,
      "outputs": [
        {
          "output_type": "execute_result",
          "data": {
            "text/html": [
              "<div>\n",
              "<style scoped>\n",
              "    .dataframe tbody tr th:only-of-type {\n",
              "        vertical-align: middle;\n",
              "    }\n",
              "\n",
              "    .dataframe tbody tr th {\n",
              "        vertical-align: top;\n",
              "    }\n",
              "\n",
              "    .dataframe thead th {\n",
              "        text-align: right;\n",
              "    }\n",
              "</style>\n",
              "<table border=\"1\" class=\"dataframe\">\n",
              "  <thead>\n",
              "    <tr style=\"text-align: right;\">\n",
              "      <th></th>\n",
              "      <th>CountryCode</th>\n",
              "      <th>SeriesCode</th>\n",
              "      <th>Year</th>\n",
              "      <th>DESCRIPTION</th>\n",
              "    </tr>\n",
              "  </thead>\n",
              "  <tbody>\n",
              "    <tr>\n",
              "      <th>0</th>\n",
              "      <td>ABW</td>\n",
              "      <td>SE.PRE.ENRL.FE</td>\n",
              "      <td>YR2001</td>\n",
              "      <td>Country estimation.</td>\n",
              "    </tr>\n",
              "    <tr>\n",
              "      <th>1</th>\n",
              "      <td>ABW</td>\n",
              "      <td>SE.TER.TCHR.FE</td>\n",
              "      <td>YR2005</td>\n",
              "      <td>Country estimation.</td>\n",
              "    </tr>\n",
              "    <tr>\n",
              "      <th>2</th>\n",
              "      <td>ABW</td>\n",
              "      <td>SE.PRE.TCHR.FE</td>\n",
              "      <td>YR2000</td>\n",
              "      <td>Country estimation.</td>\n",
              "    </tr>\n",
              "    <tr>\n",
              "      <th>3</th>\n",
              "      <td>ABW</td>\n",
              "      <td>SE.SEC.ENRL.GC</td>\n",
              "      <td>YR2004</td>\n",
              "      <td>Country estimation.</td>\n",
              "    </tr>\n",
              "    <tr>\n",
              "      <th>4</th>\n",
              "      <td>ABW</td>\n",
              "      <td>SE.PRE.TCHR</td>\n",
              "      <td>YR2006</td>\n",
              "      <td>Country estimation.</td>\n",
              "    </tr>\n",
              "  </tbody>\n",
              "</table>\n",
              "</div>"
            ],
            "text/plain": [
              "  CountryCode      SeriesCode    Year          DESCRIPTION\n",
              "0         ABW  SE.PRE.ENRL.FE  YR2001  Country estimation.\n",
              "1         ABW  SE.TER.TCHR.FE  YR2005  Country estimation.\n",
              "2         ABW  SE.PRE.TCHR.FE  YR2000  Country estimation.\n",
              "3         ABW  SE.SEC.ENRL.GC  YR2004  Country estimation.\n",
              "4         ABW     SE.PRE.TCHR  YR2006  Country estimation."
            ]
          },
          "metadata": {
            "tags": []
          },
          "execution_count": 8
        }
      ]
    },
    {
      "cell_type": "code",
      "metadata": {
        "id": "TDBH5Vk3JRHw",
        "outputId": "68eafc37-5483-4353-a8da-602dd997b5c8",
        "colab": {
          "base_uri": "https://localhost:8080/"
        }
      },
      "source": [
        "EdStatsFootNote_df.info()"
      ],
      "execution_count": 9,
      "outputs": [
        {
          "output_type": "stream",
          "text": [
            "<class 'pandas.core.frame.DataFrame'>\n",
            "RangeIndex: 643638 entries, 0 to 643637\n",
            "Data columns (total 4 columns):\n",
            " #   Column       Non-Null Count   Dtype \n",
            "---  ------       --------------   ----- \n",
            " 0   CountryCode  643638 non-null  object\n",
            " 1   SeriesCode   643638 non-null  object\n",
            " 2   Year         643638 non-null  object\n",
            " 3   DESCRIPTION  643638 non-null  object\n",
            "dtypes: object(4)\n",
            "memory usage: 19.6+ MB\n"
          ],
          "name": "stdout"
        }
      ]
    },
    {
      "cell_type": "code",
      "metadata": {
        "id": "tZZOtbEXPNF8"
      },
      "source": [
        "year_vs_series_code=EdStatsFootNote_df.groupby('Year')['SeriesCode'].count()"
      ],
      "execution_count": 10,
      "outputs": []
    },
    {
      "cell_type": "code",
      "metadata": {
        "id": "rIZ_mockPzqo",
        "outputId": "69058ff5-4abf-4d6e-9aad-4a6995bbef1b",
        "colab": {
          "base_uri": "https://localhost:8080/",
          "height": 312
        }
      },
      "source": [
        "year_vs_series_code.plot(legend=True)\n",
        "plt.title('Number of Indicator Every Year.')\n",
        "plt.ylabel('Number of Indicator')\n",
        "plt.xlabel('Year')"
      ],
      "execution_count": 11,
      "outputs": [
        {
          "output_type": "execute_result",
          "data": {
            "text/plain": [
              "Text(0.5, 0, 'Year')"
            ]
          },
          "metadata": {
            "tags": []
          },
          "execution_count": 11
        },
        {
          "output_type": "display_data",
          "data": {
            "image/png": "[encoded data removed]",
            "text/plain": [
              "<Figure size 432x288 with 1 Axes>"
            ]
          },
          "metadata": {
            "tags": [],
            "needs_background": "light"
          }
        }
      ]
    },
    {
      "cell_type": "code",
      "metadata": {
        "id": "p46ZASOlJvTi"
      },
      "source": [
        "df3=EdStatsFootNote_df[(EdStatsFootNote_df['Year']=='YR2010') | (EdStatsFootNote_df['Year']=='YR2011') | (EdStatsFootNote_df['Year']=='YR2012') \n",
        "| (EdStatsFootNote_df['Year']=='YR2013') | (EdStatsFootNote_df['Year']=='YR2014') ]\n",
        "df3=df3.reset_index()"
      ],
      "execution_count": 12,
      "outputs": []
    },
    {
      "cell_type": "code",
      "metadata": {
        "id": "Tx3XQuGYMCDt"
      },
      "source": [
        "del df3['index']"
      ],
      "execution_count": 13,
      "outputs": []
    },
    {
      "cell_type": "code",
      "metadata": {
        "id": "3hKE7kUoK7Gj",
        "outputId": "3a1b1d1f-7a75-4e2a-cce6-c309434e3453",
        "colab": {
          "base_uri": "https://localhost:8080/"
        }
      },
      "source": [
        "df3.info()"
      ],
      "execution_count": 14,
      "outputs": [
        {
          "output_type": "stream",
          "text": [
            "<class 'pandas.core.frame.DataFrame'>\n",
            "RangeIndex: 79031 entries, 0 to 79030\n",
            "Data columns (total 4 columns):\n",
            " #   Column       Non-Null Count  Dtype \n",
            "---  ------       --------------  ----- \n",
            " 0   CountryCode  79031 non-null  object\n",
            " 1   SeriesCode   79031 non-null  object\n",
            " 2   Year         79031 non-null  object\n",
            " 3   DESCRIPTION  79031 non-null  object\n",
            "dtypes: object(4)\n",
            "memory usage: 2.4+ MB\n"
          ],
          "name": "stdout"
        }
      ]
    },
    {
      "cell_type": "code",
      "metadata": {
        "id": "2l0HIqOyKjsX",
        "outputId": "2cc481b4-e3e0-483b-8358-65250f9cbf25",
        "colab": {
          "base_uri": "https://localhost:8080/",
          "height": 195
        }
      },
      "source": [
        "df3.head()"
      ],
      "execution_count": 19,
      "outputs": [
        {
          "output_type": "execute_result",
          "data": {
            "text/html": [
              "<div>\n",
              "<style scoped>\n",
              "    .dataframe tbody tr th:only-of-type {\n",
              "        vertical-align: middle;\n",
              "    }\n",
              "\n",
              "    .dataframe tbody tr th {\n",
              "        vertical-align: top;\n",
              "    }\n",
              "\n",
              "    .dataframe thead th {\n",
              "        text-align: right;\n",
              "    }\n",
              "</style>\n",
              "<table border=\"1\" class=\"dataframe\">\n",
              "  <thead>\n",
              "    <tr style=\"text-align: right;\">\n",
              "      <th></th>\n",
              "      <th>CountryCode</th>\n",
              "      <th>SeriesCode</th>\n",
              "      <th>Year</th>\n",
              "      <th>DESCRIPTION</th>\n",
              "    </tr>\n",
              "  </thead>\n",
              "  <tbody>\n",
              "    <tr>\n",
              "      <th>0</th>\n",
              "      <td>ABW</td>\n",
              "      <td>SE.ADT.1524.LT.FE.ZS</td>\n",
              "      <td>YR2010</td>\n",
              "      <td>Country data</td>\n",
              "    </tr>\n",
              "    <tr>\n",
              "      <th>1</th>\n",
              "      <td>ABW</td>\n",
              "      <td>SE.ADT.1524.LT.FM.ZS</td>\n",
              "      <td>YR2010</td>\n",
              "      <td>Country data</td>\n",
              "    </tr>\n",
              "    <tr>\n",
              "      <th>2</th>\n",
              "      <td>ABW</td>\n",
              "      <td>SE.ADT.1524.LT.MA.ZS</td>\n",
              "      <td>YR2010</td>\n",
              "      <td>Country data</td>\n",
              "    </tr>\n",
              "    <tr>\n",
              "      <th>3</th>\n",
              "      <td>ABW</td>\n",
              "      <td>SE.ADT.1524.LT.ZS</td>\n",
              "      <td>YR2010</td>\n",
              "      <td>Country data</td>\n",
              "    </tr>\n",
              "    <tr>\n",
              "      <th>4</th>\n",
              "      <td>ABW</td>\n",
              "      <td>SE.ADT.LITR.FE.ZS</td>\n",
              "      <td>YR2010</td>\n",
              "      <td>Country data</td>\n",
              "    </tr>\n",
              "  </tbody>\n",
              "</table>\n",
              "</div>"
            ],
            "text/plain": [
              "  CountryCode            SeriesCode    Year   DESCRIPTION\n",
              "0         ABW  SE.ADT.1524.LT.FE.ZS  YR2010  Country data\n",
              "1         ABW  SE.ADT.1524.LT.FM.ZS  YR2010  Country data\n",
              "2         ABW  SE.ADT.1524.LT.MA.ZS  YR2010  Country data\n",
              "3         ABW     SE.ADT.1524.LT.ZS  YR2010  Country data\n",
              "4         ABW     SE.ADT.LITR.FE.ZS  YR2010  Country data"
            ]
          },
          "metadata": {
            "tags": []
          },
          "execution_count": 19
        }
      ]
    },
    {
      "cell_type": "code",
      "metadata": {
        "id": "TFmgkaWPBq4N"
      },
      "source": [
        "findtop20_series_code=pd.DataFrame(df3['SeriesCode'].value_counts())"
      ],
      "execution_count": 34,
      "outputs": []
    },
    {
      "cell_type": "code",
      "metadata": {
        "id": "JmvcGbJdC9UX"
      },
      "source": [
        "findtop20_series_code=findtop20_series_code.rename(columns={\"SeriesCode\": \"Counts\"})\n",
        "findtop20_series_code=findtop20_series_code.iloc[0:20]"
      ],
      "execution_count": 35,
      "outputs": []
    },
    {
      "cell_type": "code",
      "metadata": {
        "id": "nH_vsl0pDazY",
        "outputId": "49e2b31b-2010-4fe0-f9a2-40c529da4684",
        "colab": {
          "base_uri": "https://localhost:8080/",
          "height": 639
        }
      },
      "source": [
        "findtop20_series_code"
      ],
      "execution_count": 36,
      "outputs": [
        {
          "output_type": "execute_result",
          "data": {
            "text/html": [
              "<div>\n",
              "<style scoped>\n",
              "    .dataframe tbody tr th:only-of-type {\n",
              "        vertical-align: middle;\n",
              "    }\n",
              "\n",
              "    .dataframe tbody tr th {\n",
              "        vertical-align: top;\n",
              "    }\n",
              "\n",
              "    .dataframe thead th {\n",
              "        text-align: right;\n",
              "    }\n",
              "</style>\n",
              "<table border=\"1\" class=\"dataframe\">\n",
              "  <thead>\n",
              "    <tr style=\"text-align: right;\">\n",
              "      <th></th>\n",
              "      <th>Counts</th>\n",
              "    </tr>\n",
              "  </thead>\n",
              "  <tbody>\n",
              "    <tr>\n",
              "      <th>SH.DYN.MORT</th>\n",
              "      <td>1050</td>\n",
              "    </tr>\n",
              "    <tr>\n",
              "      <th>SH.DYN.AIDS.ZS</th>\n",
              "      <td>660</td>\n",
              "    </tr>\n",
              "    <tr>\n",
              "      <th>SE.PRM.AGES</th>\n",
              "      <td>609</td>\n",
              "    </tr>\n",
              "    <tr>\n",
              "      <th>SE.PRM.DURS</th>\n",
              "      <td>609</td>\n",
              "    </tr>\n",
              "    <tr>\n",
              "      <th>SE.SEC.AGES</th>\n",
              "      <td>597</td>\n",
              "    </tr>\n",
              "    <tr>\n",
              "      <th>SE.SEC.DURS</th>\n",
              "      <td>597</td>\n",
              "    </tr>\n",
              "    <tr>\n",
              "      <th>SE.SEC.ENRL.TC.ZS</th>\n",
              "      <td>593</td>\n",
              "    </tr>\n",
              "    <tr>\n",
              "      <th>UIS.OE.56.40510</th>\n",
              "      <td>592</td>\n",
              "    </tr>\n",
              "    <tr>\n",
              "      <th>SE.TOT.ENRR</th>\n",
              "      <td>588</td>\n",
              "    </tr>\n",
              "    <tr>\n",
              "      <th>UIS.GER.1T6.F</th>\n",
              "      <td>570</td>\n",
              "    </tr>\n",
              "    <tr>\n",
              "      <th>UIS.GER.1T6.M</th>\n",
              "      <td>570</td>\n",
              "    </tr>\n",
              "    <tr>\n",
              "      <th>UIS.MS.56.T</th>\n",
              "      <td>550</td>\n",
              "    </tr>\n",
              "    <tr>\n",
              "      <th>SE.SEC.PROG.ZS</th>\n",
              "      <td>499</td>\n",
              "    </tr>\n",
              "    <tr>\n",
              "      <th>SE.SEC.PROG.FE.ZS</th>\n",
              "      <td>482</td>\n",
              "    </tr>\n",
              "    <tr>\n",
              "      <th>SE.SEC.PROG.MA.ZS</th>\n",
              "      <td>482</td>\n",
              "    </tr>\n",
              "    <tr>\n",
              "      <th>UIS.GOER.56</th>\n",
              "      <td>473</td>\n",
              "    </tr>\n",
              "    <tr>\n",
              "      <th>UIS.MS.56.F</th>\n",
              "      <td>468</td>\n",
              "    </tr>\n",
              "    <tr>\n",
              "      <th>SE.COM.DURS</th>\n",
              "      <td>424</td>\n",
              "    </tr>\n",
              "    <tr>\n",
              "      <th>SE.PRM.UNER</th>\n",
              "      <td>386</td>\n",
              "    </tr>\n",
              "    <tr>\n",
              "      <th>UIS.OMR.56</th>\n",
              "      <td>382</td>\n",
              "    </tr>\n",
              "  </tbody>\n",
              "</table>\n",
              "</div>"
            ],
            "text/plain": [
              "                   Counts\n",
              "SH.DYN.MORT          1050\n",
              "SH.DYN.AIDS.ZS        660\n",
              "SE.PRM.AGES           609\n",
              "SE.PRM.DURS           609\n",
              "SE.SEC.AGES           597\n",
              "SE.SEC.DURS           597\n",
              "SE.SEC.ENRL.TC.ZS     593\n",
              "UIS.OE.56.40510       592\n",
              "SE.TOT.ENRR           588\n",
              "UIS.GER.1T6.F         570\n",
              "UIS.GER.1T6.M         570\n",
              "UIS.MS.56.T           550\n",
              "SE.SEC.PROG.ZS        499\n",
              "SE.SEC.PROG.FE.ZS     482\n",
              "SE.SEC.PROG.MA.ZS     482\n",
              "UIS.GOER.56           473\n",
              "UIS.MS.56.F           468\n",
              "SE.COM.DURS           424\n",
              "SE.PRM.UNER           386\n",
              "UIS.OMR.56            382"
            ]
          },
          "metadata": {
            "tags": []
          },
          "execution_count": 36
        }
      ]
    },
    {
      "cell_type": "code",
      "metadata": {
        "id": "ppZ3ZEG8ERl7",
        "outputId": "b5e6fc61-4cfe-4c19-84b3-74899bdcba33",
        "colab": {
          "base_uri": "https://localhost:8080/"
        }
      },
      "source": [
        "top_indicator_code_dict=dict(zip(list(findtop20_series_code.index),list(findtop20_series_code['Counts'])))\n",
        "top_indicator_code_dict"
      ],
      "execution_count": 40,
      "outputs": [
        {
          "output_type": "execute_result",
          "data": {
            "text/plain": [
              "{'SE.COM.DURS': 424,\n",
              " 'SE.PRM.AGES': 609,\n",
              " 'SE.PRM.DURS': 609,\n",
              " 'SE.PRM.UNER': 386,\n",
              " 'SE.SEC.AGES': 597,\n",
              " 'SE.SEC.DURS': 597,\n",
              " 'SE.SEC.ENRL.TC.ZS': 593,\n",
              " 'SE.SEC.PROG.FE.ZS': 482,\n",
              " 'SE.SEC.PROG.MA.ZS': 482,\n",
              " 'SE.SEC.PROG.ZS': 499,\n",
              " 'SE.TOT.ENRR': 588,\n",
              " 'SH.DYN.AIDS.ZS': 660,\n",
              " 'SH.DYN.MORT': 1050,\n",
              " 'UIS.GER.1T6.F': 570,\n",
              " 'UIS.GER.1T6.M': 570,\n",
              " 'UIS.GOER.56': 473,\n",
              " 'UIS.MS.56.F': 468,\n",
              " 'UIS.MS.56.T': 550,\n",
              " 'UIS.OE.56.40510': 592,\n",
              " 'UIS.OMR.56': 382}"
            ]
          },
          "metadata": {
            "tags": []
          },
          "execution_count": 40
        }
      ]
    },
    {
      "cell_type": "code",
      "metadata": {
        "id": "jU3dcwpbJY55",
        "outputId": "5c13a7eb-d4f4-4fab-da28-3a76faa9a040",
        "colab": {
          "base_uri": "https://localhost:8080/"
        }
      },
      "source": [
        "df3['CountryCode'].nunique()"
      ],
      "execution_count": 186,
      "outputs": [
        {
          "output_type": "execute_result",
          "data": {
            "text/plain": [
              "235"
            ]
          },
          "metadata": {
            "tags": []
          },
          "execution_count": 186
        }
      ]
    },
    {
      "cell_type": "code",
      "metadata": {
        "id": "1rPk2cUMJZF3"
      },
      "source": [
        "counts_of_series_code_per_year=df3.groupby('Year')['SeriesCode'].count()"
      ],
      "execution_count": 189,
      "outputs": []
    },
    {
      "cell_type": "code",
      "metadata": {
        "id": "lbvggmSOJZJR",
        "outputId": "64867920-95c6-4a80-fc21-2b3cf50804ed",
        "colab": {
          "base_uri": "https://localhost:8080/"
        }
      },
      "source": [
        "counts_of_series_code_per_year"
      ],
      "execution_count": 190,
      "outputs": [
        {
          "output_type": "execute_result",
          "data": {
            "text/plain": [
              "Year\n",
              "YR2010    22598\n",
              "YR2011    17760\n",
              "YR2012    13890\n",
              "YR2013    13405\n",
              "YR2014    11378\n",
              "Name: SeriesCode, dtype: int64"
            ]
          },
          "metadata": {
            "tags": []
          },
          "execution_count": 190
        }
      ]
    },
    {
      "cell_type": "code",
      "metadata": {
        "id": "b8uEfPohPBYB",
        "outputId": "080ea935-b35c-411f-e920-69427ea1c900",
        "colab": {
          "base_uri": "https://localhost:8080/",
          "height": 367
        }
      },
      "source": [
        "counts_of_series_code_per_year.plot()\n",
        "plt.title('Number of Indicator Every Year.')\n",
        "plt.ylabel('Number of Indicator')\n",
        "plt.xlabel('Year')"
      ],
      "execution_count": 197,
      "outputs": [
        {
          "output_type": "execute_result",
          "data": {
            "text/plain": [
              "Text(0.5, 0, 'Year')"
            ]
          },
          "metadata": {
            "tags": []
          },
          "execution_count": 197
        },
        {
          "output_type": "display_data",
          "data": {
            "image/png": "[encoded data removed]",
            "text/plain": [
              "<Figure size 720x360 with 1 Axes>"
            ]
          },
          "metadata": {
            "tags": [],
            "needs_background": "light"
          }
        }
      ]
    },
    {
      "cell_type": "code",
      "metadata": {
        "id": "0RXLRymdRayl",
        "outputId": "48be0fb1-efbe-4f5b-a6fd-2835be2c9c4d",
        "colab": {
          "base_uri": "https://localhost:8080/",
          "height": 136
        }
      },
      "source": [
        "df3.head(3)"
      ],
      "execution_count": 198,
      "outputs": [
        {
          "output_type": "execute_result",
          "data": {
            "text/html": [
              "<div>\n",
              "<style scoped>\n",
              "    .dataframe tbody tr th:only-of-type {\n",
              "        vertical-align: middle;\n",
              "    }\n",
              "\n",
              "    .dataframe tbody tr th {\n",
              "        vertical-align: top;\n",
              "    }\n",
              "\n",
              "    .dataframe thead th {\n",
              "        text-align: right;\n",
              "    }\n",
              "</style>\n",
              "<table border=\"1\" class=\"dataframe\">\n",
              "  <thead>\n",
              "    <tr style=\"text-align: right;\">\n",
              "      <th></th>\n",
              "      <th>CountryCode</th>\n",
              "      <th>SeriesCode</th>\n",
              "      <th>Year</th>\n",
              "      <th>DESCRIPTION</th>\n",
              "    </tr>\n",
              "  </thead>\n",
              "  <tbody>\n",
              "    <tr>\n",
              "      <th>0</th>\n",
              "      <td>ABW</td>\n",
              "      <td>SE.ADT.1524.LT.FE.ZS</td>\n",
              "      <td>YR2010</td>\n",
              "      <td>Country data</td>\n",
              "    </tr>\n",
              "    <tr>\n",
              "      <th>1</th>\n",
              "      <td>ABW</td>\n",
              "      <td>SE.ADT.1524.LT.FM.ZS</td>\n",
              "      <td>YR2010</td>\n",
              "      <td>Country data</td>\n",
              "    </tr>\n",
              "    <tr>\n",
              "      <th>2</th>\n",
              "      <td>ABW</td>\n",
              "      <td>SE.ADT.1524.LT.MA.ZS</td>\n",
              "      <td>YR2010</td>\n",
              "      <td>Country data</td>\n",
              "    </tr>\n",
              "  </tbody>\n",
              "</table>\n",
              "</div>"
            ],
            "text/plain": [
              "  CountryCode            SeriesCode    Year   DESCRIPTION\n",
              "0         ABW  SE.ADT.1524.LT.FE.ZS  YR2010  Country data\n",
              "1         ABW  SE.ADT.1524.LT.FM.ZS  YR2010  Country data\n",
              "2         ABW  SE.ADT.1524.LT.MA.ZS  YR2010  Country data"
            ]
          },
          "metadata": {
            "tags": []
          },
          "execution_count": 198
        }
      ]
    },
    {
      "cell_type": "code",
      "metadata": {
        "id": "m3nP2sztRuh9"
      },
      "source": [
        "no_of_indicator_per_country=df3.groupby('CountryCode')['SeriesCode'].count()"
      ],
      "execution_count": 206,
      "outputs": []
    },
    {
      "cell_type": "code",
      "metadata": {
        "id": "kjY-faegTVF2",
        "outputId": "a74af3fb-0f27-4430-c3b1-4ab2d45d67fc",
        "colab": {
          "base_uri": "https://localhost:8080/",
          "height": 401
        }
      },
      "source": [
        "plt.rcParams['figure.figsize'] = (100, 5)\n",
        "no_of_indicator_per_country.plot(kind='bar')\n",
        "plt.title('Number of Indicator Per Country.')\n",
        "plt.ylabel('Number of Indicator')\n",
        "plt.xlabel('CountryCode')"
      ],
      "execution_count": 213,
      "outputs": [
        {
          "output_type": "execute_result",
          "data": {
            "text/plain": [
              "Text(0.5, 0, 'CountryCode')"
            ]
          },
          "metadata": {
            "tags": []
          },
          "execution_count": 213
        },
        {
          "output_type": "display_data",
          "data": {
            "image/png": "[encoded data removed]",
            "text/plain": [
              "<Figure size 7200x360 with 1 Axes>"
            ]
          },
          "metadata": {
            "tags": [],
            "needs_background": "light"
          }
        }
      ]
    },
    {
      "cell_type": "markdown",
      "metadata": {
        "id": "CR5_TVN3UdL1"
      },
      "source": [
        "5. Analysis of **EdStatsSeries_df** DataFrame."
      ]
    },
    {
      "cell_type": "code",
      "metadata": {
        "id": "MPzJqyQ9T7t7",
        "outputId": "3211a96f-f5f6-4b5c-b225-8443e43088d9",
        "colab": {
          "base_uri": "https://localhost:8080/",
          "height": 274
        }
      },
      "source": [
        "EdStatsSeries_df.head(2)"
      ],
      "execution_count": 215,
      "outputs": [
        {
          "output_type": "execute_result",
          "data": {
            "text/html": [
              "<div>\n",
              "<style scoped>\n",
              "    .dataframe tbody tr th:only-of-type {\n",
              "        vertical-align: middle;\n",
              "    }\n",
              "\n",
              "    .dataframe tbody tr th {\n",
              "        vertical-align: top;\n",
              "    }\n",
              "\n",
              "    .dataframe thead th {\n",
              "        text-align: right;\n",
              "    }\n",
              "</style>\n",
              "<table border=\"1\" class=\"dataframe\">\n",
              "  <thead>\n",
              "    <tr style=\"text-align: right;\">\n",
              "      <th></th>\n",
              "      <th>Series Code</th>\n",
              "      <th>Topic</th>\n",
              "      <th>Indicator Name</th>\n",
              "      <th>Short definition</th>\n",
              "      <th>Long definition</th>\n",
              "      <th>Periodicity</th>\n",
              "      <th>Base Period</th>\n",
              "      <th>Other notes</th>\n",
              "      <th>Aggregation method</th>\n",
              "      <th>Limitations and exceptions</th>\n",
              "      <th>General comments</th>\n",
              "      <th>Source</th>\n",
              "      <th>Statistical concept and methodology</th>\n",
              "      <th>Development relevance</th>\n",
              "    </tr>\n",
              "  </thead>\n",
              "  <tbody>\n",
              "    <tr>\n",
              "      <th>0</th>\n",
              "      <td>BAR.NOED.1519.FE.ZS</td>\n",
              "      <td>Attainment</td>\n",
              "      <td>Barro-Lee: Percentage of female population age...</td>\n",
              "      <td>Percentage of female population age 15-19 with...</td>\n",
              "      <td>Percentage of female population age 15-19 with...</td>\n",
              "      <td>NaN</td>\n",
              "      <td>NaN</td>\n",
              "      <td>NaN</td>\n",
              "      <td>NaN</td>\n",
              "      <td>NaN</td>\n",
              "      <td>NaN</td>\n",
              "      <td>Robert J. Barro and Jong-Wha Lee: http://www.b...</td>\n",
              "      <td>NaN</td>\n",
              "      <td>NaN</td>\n",
              "    </tr>\n",
              "    <tr>\n",
              "      <th>1</th>\n",
              "      <td>BAR.NOED.1519.ZS</td>\n",
              "      <td>Attainment</td>\n",
              "      <td>Barro-Lee: Percentage of population age 15-19 ...</td>\n",
              "      <td>Percentage of population age 15-19 with no edu...</td>\n",
              "      <td>Percentage of population age 15-19 with no edu...</td>\n",
              "      <td>NaN</td>\n",
              "      <td>NaN</td>\n",
              "      <td>NaN</td>\n",
              "      <td>NaN</td>\n",
              "      <td>NaN</td>\n",
              "      <td>NaN</td>\n",
              "      <td>Robert J. Barro and Jong-Wha Lee: http://www.b...</td>\n",
              "      <td>NaN</td>\n",
              "      <td>NaN</td>\n",
              "    </tr>\n",
              "  </tbody>\n",
              "</table>\n",
              "</div>"
            ],
            "text/plain": [
              "           Series Code  ... Development relevance\n",
              "0  BAR.NOED.1519.FE.ZS  ...                   NaN\n",
              "1     BAR.NOED.1519.ZS  ...                   NaN\n",
              "\n",
              "[2 rows x 14 columns]"
            ]
          },
          "metadata": {
            "tags": []
          },
          "execution_count": 215
        }
      ]
    },
    {
      "cell_type": "code",
      "metadata": {
        "id": "47peR2M_XPh4",
        "outputId": "2fc28a65-b8f8-4bee-de23-8fd260e9931d",
        "colab": {
          "base_uri": "https://localhost:8080/"
        }
      },
      "source": [
        "EdStatsSeries_df.info()"
      ],
      "execution_count": 230,
      "outputs": [
        {
          "output_type": "stream",
          "text": [
            "<class 'pandas.core.frame.DataFrame'>\n",
            "RangeIndex: 3665 entries, 0 to 3664\n",
            "Data columns (total 14 columns):\n",
            " #   Column                               Non-Null Count  Dtype \n",
            "---  ------                               --------------  ----- \n",
            " 0   Series Code                          3665 non-null   object\n",
            " 1   Topic                                3665 non-null   object\n",
            " 2   Indicator Name                       3665 non-null   object\n",
            " 3   Short definition                     2156 non-null   object\n",
            " 4   Long definition                      3665 non-null   object\n",
            " 5   Periodicity                          99 non-null     object\n",
            " 6   Base Period                          314 non-null    object\n",
            " 7   Other notes                          552 non-null    object\n",
            " 8   Aggregation method                   47 non-null     object\n",
            " 9   Limitations and exceptions           14 non-null     object\n",
            " 10  General comments                     14 non-null     object\n",
            " 11  Source                               3665 non-null   object\n",
            " 12  Statistical concept and methodology  23 non-null     object\n",
            " 13  Development relevance                3 non-null      object\n",
            "dtypes: object(14)\n",
            "memory usage: 401.0+ KB\n"
          ],
          "name": "stdout"
        }
      ]
    },
    {
      "cell_type": "code",
      "metadata": {
        "id": "envNmG2pSaUH"
      },
      "source": [
        "df4=EdStatsSeries_df"
      ],
      "execution_count": 216,
      "outputs": []
    },
    {
      "cell_type": "code",
      "metadata": {
        "id": "tvwcCzBaBGT6",
        "outputId": "6ad909d2-a665-42c5-f7e4-1f11023e4d1d",
        "colab": {
          "base_uri": "https://localhost:8080/"
        }
      },
      "source": [
        "df4['Topic'].nunique()"
      ],
      "execution_count": 233,
      "outputs": [
        {
          "output_type": "execute_result",
          "data": {
            "text/plain": [
              "37"
            ]
          },
          "metadata": {
            "tags": []
          },
          "execution_count": 233
        }
      ]
    },
    {
      "cell_type": "code",
      "metadata": {
        "id": "kh3ci0htWk4U"
      },
      "source": [
        "no_of_series_code_per_topic=df4.groupby('Topic')['Series Code'].count()"
      ],
      "execution_count": 228,
      "outputs": []
    },
    {
      "cell_type": "code",
      "metadata": {
        "id": "33ZProsfU8So",
        "outputId": "3317101a-5199-4455-e603-92b2ebd13dde",
        "colab": {
          "base_uri": "https://localhost:8080/",
          "height": 429
        }
      },
      "source": [
        "plt.rcParams['figure.figsize'] = (50, 5)\n",
        "no_of_series_code_per_topic.plot(kind='bar')\n",
        "plt.title('Number of SeriesCode(Indicator) Per Topic.')\n",
        "plt.ylabel('Number of Indicator')\n",
        "plt.xlabel('Topic')"
      ],
      "execution_count": 229,
      "outputs": [
        {
          "output_type": "execute_result",
          "data": {
            "text/plain": [
              "Text(0.5, 0, 'Topic')"
            ]
          },
          "metadata": {
            "tags": []
          },
          "execution_count": 229
        },
        {
          "output_type": "display_data",
          "data": {
            "image/png": "[encoded data removed]",
            "text/plain": [
              "<Figure size 3600x360 with 1 Axes>"
            ]
          },
          "metadata": {
            "tags": [],
            "needs_background": "light"
          }
        }
      ]
    },
    {
      "cell_type": "code",
      "metadata": {
        "id": "-Qsxx1moVpym"
      },
      "source": [
        "# Attainment series\n",
        "#att_ser,att_iname=zip(*df4[df4['Topic']=='Attainment'][['Series Code','Indicator Name']].values)\n",
        "#dictt=dict(zip(att_ser,att_iname))"
      ],
      "execution_count": 236,
      "outputs": []
    },
    {
      "cell_type": "code",
      "metadata": {
        "id": "UPNkV5cRQOUz"
      },
      "source": [
        ""
      ],
      "execution_count": 237,
      "outputs": []
    },
    {
      "cell_type": "code",
      "metadata": {
        "id": "Ultb_HreYGsR",
        "outputId": "ac72c952-d0ad-4bfb-a0f5-0f3de6b244dd",
        "colab": {
          "base_uri": "https://localhost:8080/",
          "height": 367
        }
      },
      "source": [
        "#plotline \n",
        "plt.rcParams['figure.figsize'] = (10, 5)\n",
        "df4.groupby('Base Period')['Series Code'].count().plot()\n",
        "plt.title('Number of SeriesCode(Indicator) Per Base Period.')\n",
        "plt.ylabel('Number of Indicator')\n",
        "plt.xlabel('Base Period')"
      ],
      "execution_count": 249,
      "outputs": [
        {
          "output_type": "execute_result",
          "data": {
            "text/plain": [
              "Text(0.5, 0, 'Base Period')"
            ]
          },
          "metadata": {
            "tags": []
          },
          "execution_count": 249
        },
        {
          "output_type": "display_data",
          "data": {
            "image/png": "[encoded data removed]",
            "text/plain": [
              "<Figure size 720x360 with 1 Axes>"
            ]
          },
          "metadata": {
            "tags": [],
            "needs_background": "light"
          }
        }
      ]
    },
    {
      "cell_type": "code",
      "metadata": {
        "id": "qfcUgDzwYQte",
        "outputId": "7a512557-6973-4efb-8a2d-9775a27e2f42",
        "colab": {
          "base_uri": "https://localhost:8080/",
          "height": 489
        }
      },
      "source": [
        "#bar plot \n",
        "plt.rcParams['figure.figsize'] = (10, 5)\n",
        "df4.groupby('Base Period')['Series Code'].count().plot(kind='bar')\n",
        "plt.title('Number of SeriesCode(Indicator) Per Base Period.')\n",
        "plt.ylabel('Number of Indicator')\n",
        "plt.xlabel('Base Period')"
      ],
      "execution_count": 250,
      "outputs": [
        {
          "output_type": "execute_result",
          "data": {
            "text/plain": [
              "Text(0.5, 0, 'Base Period')"
            ]
          },
          "metadata": {
            "tags": []
          },
          "execution_count": 250
        },
        {
          "output_type": "display_data",
          "data": {
            "image/png": "[encoded data removed]",
            "text/plain": [
              "<Figure size 720x360 with 1 Axes>"
            ]
          },
          "metadata": {
            "tags": [],
            "needs_background": "light"
          }
        }
      ]
    },
    {
      "cell_type": "code",
      "metadata": {
        "id": "mishZbz9Zr_k"
      },
      "source": [
        ""
      ],
      "execution_count": null,
      "outputs": []
    }
  ]
}